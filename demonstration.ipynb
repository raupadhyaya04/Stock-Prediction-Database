{
 "metadata": {
  "language_info": {
   "codemirror_mode": {
    "name": "ipython",
    "version": 3
   },
   "file_extension": ".py",
   "mimetype": "text/x-python",
   "name": "python",
   "nbconvert_exporter": "python",
   "pygments_lexer": "ipython3",
   "version": "3.9.4"
  },
  "orig_nbformat": 2,
  "kernelspec": {
   "name": "python394jvsc74a57bd0d92f2549f4325b9fc5daa559bf3a65390e5657c601e15c4a786636542df23dc6",
   "display_name": "Python 3.9.4 64-bit ('stockprediction': conda)"
  },
  "metadata": {
   "interpreter": {
    "hash": "d92f2549f4325b9fc5daa559bf3a65390e5657c601e15c4a786636542df23dc6"
   }
  }
 },
 "nbformat": 4,
 "nbformat_minor": 2,
 "cells": [
  {
   "cell_type": "code",
   "execution_count": 13,
   "metadata": {},
   "outputs": [],
   "source": [
    "import yfinance as yf\n",
    "import pandas as pd "
   ]
  },
  {
   "cell_type": "code",
   "execution_count": 41,
   "metadata": {},
   "outputs": [],
   "source": [
    "def getTickers(excel_file):\n",
    "    pass\n"
   ]
  },
  {
   "cell_type": "code",
   "execution_count": 42,
   "metadata": {},
   "outputs": [
    {
     "output_type": "stream",
     "name": "stderr",
     "text": [
      "/home/sheil/miniconda3/envs/stockprediction/lib/python3.9/site-packages/IPython/core/interactiveshell.py:3169: DtypeWarning: Columns (7) have mixed types.Specify dtype option on import or set low_memory=False.\n  has_raised = await self.run_ast_nodes(code_ast.body, cell_name,\n"
     ]
    }
   ],
   "source": [
    "df = pd.read_csv('Yahoo Ticker Symbols - September 2017.csv')[3:]"
   ]
  },
  {
   "cell_type": "code",
   "execution_count": 43,
   "metadata": {},
   "outputs": [
    {
     "output_type": "execute_result",
     "data": {
      "text/plain": [
       "       Yahoo Stock Tickers                               Unnamed: 1  \\\n",
       "3                     OEDV  Osage Exploration and Development, Inc.   \n",
       "4                     AAPL                               Apple Inc.   \n",
       "5                      BAC              Bank of America Corporation   \n",
       "6                     AMZN                         Amazon.com, Inc.   \n",
       "7                        T                                AT&T Inc.   \n",
       "...                    ...                                      ...   \n",
       "106326              G5N.SG          Groupon Inc. Reg. Shares DL-,00   \n",
       "106327              N1H.AX                      N1 Holdings Limited   \n",
       "106328              1K2.BE                  K2M GROUP HLDGS DL-,001   \n",
       "106329              2RM.BE                 RE/MAX HLDGS A DL -,0001   \n",
       "106330               2RM.F                    RE/MAX Holdings, Inc.   \n",
       "\n",
       "       Unnamed: 2                   Unnamed: 3 Unnamed: 4  Unnamed: 5  \\\n",
       "3             PNK                          NaN        USA         NaN   \n",
       "4             NMS         Electronic Equipment        USA         NaN   \n",
       "5             NYQ           Money Center Banks        USA         NaN   \n",
       "6             NMS  Catalog & Mail Order Houses        USA         NaN   \n",
       "7             NYQ  Telecom Services - Domestic        USA         NaN   \n",
       "...           ...                          ...        ...         ...   \n",
       "106326        STU                          NaN    Germany         NaN   \n",
       "106327        ASX          Mortgage Investment  Australia         NaN   \n",
       "106328        BER                          NaN    Germany         NaN   \n",
       "106329        BER                          NaN    Germany         NaN   \n",
       "106330        FRA                          NaN     France         NaN   \n",
       "\n",
       "        Unnamed: 6                                         Unnamed: 7  \n",
       "3              NaN                                         Samir Khan  \n",
       "4              NaN                     simulationconsultant@gmail.com  \n",
       "5              NaN                                                NaN  \n",
       "6              NaN        This ticker symbol list was downloaded from  \n",
       "7              NaN  http://investexcel.net/all-yahoo-finance-stock...  \n",
       "...            ...                                                ...  \n",
       "106326         NaN                                                NaN  \n",
       "106327         NaN                                                NaN  \n",
       "106328         NaN                                                NaN  \n",
       "106329         NaN                                                NaN  \n",
       "106330         NaN                                                NaN  \n",
       "\n",
       "[106328 rows x 8 columns]"
      ],
      "text/html": "<div>\n<style scoped>\n    .dataframe tbody tr th:only-of-type {\n        vertical-align: middle;\n    }\n\n    .dataframe tbody tr th {\n        vertical-align: top;\n    }\n\n    .dataframe thead th {\n        text-align: right;\n    }\n</style>\n<table border=\"1\" class=\"dataframe\">\n  <thead>\n    <tr style=\"text-align: right;\">\n      <th></th>\n      <th>Yahoo Stock Tickers</th>\n      <th>Unnamed: 1</th>\n      <th>Unnamed: 2</th>\n      <th>Unnamed: 3</th>\n      <th>Unnamed: 4</th>\n      <th>Unnamed: 5</th>\n      <th>Unnamed: 6</th>\n      <th>Unnamed: 7</th>\n    </tr>\n  </thead>\n  <tbody>\n    <tr>\n      <th>3</th>\n      <td>OEDV</td>\n      <td>Osage Exploration and Development, Inc.</td>\n      <td>PNK</td>\n      <td>NaN</td>\n      <td>USA</td>\n      <td>NaN</td>\n      <td>NaN</td>\n      <td>Samir Khan</td>\n    </tr>\n    <tr>\n      <th>4</th>\n      <td>AAPL</td>\n      <td>Apple Inc.</td>\n      <td>NMS</td>\n      <td>Electronic Equipment</td>\n      <td>USA</td>\n      <td>NaN</td>\n      <td>NaN</td>\n      <td>simulationconsultant@gmail.com</td>\n    </tr>\n    <tr>\n      <th>5</th>\n      <td>BAC</td>\n      <td>Bank of America Corporation</td>\n      <td>NYQ</td>\n      <td>Money Center Banks</td>\n      <td>USA</td>\n      <td>NaN</td>\n      <td>NaN</td>\n      <td>NaN</td>\n    </tr>\n    <tr>\n      <th>6</th>\n      <td>AMZN</td>\n      <td>Amazon.com, Inc.</td>\n      <td>NMS</td>\n      <td>Catalog &amp; Mail Order Houses</td>\n      <td>USA</td>\n      <td>NaN</td>\n      <td>NaN</td>\n      <td>This ticker symbol list was downloaded from</td>\n    </tr>\n    <tr>\n      <th>7</th>\n      <td>T</td>\n      <td>AT&amp;T Inc.</td>\n      <td>NYQ</td>\n      <td>Telecom Services - Domestic</td>\n      <td>USA</td>\n      <td>NaN</td>\n      <td>NaN</td>\n      <td>http://investexcel.net/all-yahoo-finance-stock...</td>\n    </tr>\n    <tr>\n      <th>...</th>\n      <td>...</td>\n      <td>...</td>\n      <td>...</td>\n      <td>...</td>\n      <td>...</td>\n      <td>...</td>\n      <td>...</td>\n      <td>...</td>\n    </tr>\n    <tr>\n      <th>106326</th>\n      <td>G5N.SG</td>\n      <td>Groupon Inc. Reg. Shares DL-,00</td>\n      <td>STU</td>\n      <td>NaN</td>\n      <td>Germany</td>\n      <td>NaN</td>\n      <td>NaN</td>\n      <td>NaN</td>\n    </tr>\n    <tr>\n      <th>106327</th>\n      <td>N1H.AX</td>\n      <td>N1 Holdings Limited</td>\n      <td>ASX</td>\n      <td>Mortgage Investment</td>\n      <td>Australia</td>\n      <td>NaN</td>\n      <td>NaN</td>\n      <td>NaN</td>\n    </tr>\n    <tr>\n      <th>106328</th>\n      <td>1K2.BE</td>\n      <td>K2M GROUP HLDGS DL-,001</td>\n      <td>BER</td>\n      <td>NaN</td>\n      <td>Germany</td>\n      <td>NaN</td>\n      <td>NaN</td>\n      <td>NaN</td>\n    </tr>\n    <tr>\n      <th>106329</th>\n      <td>2RM.BE</td>\n      <td>RE/MAX HLDGS A DL -,0001</td>\n      <td>BER</td>\n      <td>NaN</td>\n      <td>Germany</td>\n      <td>NaN</td>\n      <td>NaN</td>\n      <td>NaN</td>\n    </tr>\n    <tr>\n      <th>106330</th>\n      <td>2RM.F</td>\n      <td>RE/MAX Holdings, Inc.</td>\n      <td>FRA</td>\n      <td>NaN</td>\n      <td>France</td>\n      <td>NaN</td>\n      <td>NaN</td>\n      <td>NaN</td>\n    </tr>\n  </tbody>\n</table>\n<p>106328 rows × 8 columns</p>\n</div>"
     },
     "metadata": {},
     "execution_count": 43
    }
   ],
   "source": [
    "df"
   ]
  },
  {
   "cell_type": "code",
   "execution_count": 44,
   "metadata": {},
   "outputs": [],
   "source": [
    "df = df.rename(columns={'Yahoo Stock Tickers': 'ticker',\n",
    " 'Unnamed: 1': 'name',\n",
    " 'Unnamed: 2': 'Exchange',\n",
    " 'Unnamed: 3': 'Industry/Sector',\n",
    " 'Unnamed: 4': 'Country',\n",
    " 'Unnamed: 5': 'Unnamed: 1',\n",
    " 'Unnamed: 6': 'Unnamed: 2'}).reset_index()"
   ]
  },
  {
   "cell_type": "code",
   "execution_count": 45,
   "metadata": {},
   "outputs": [
    {
     "output_type": "execute_result",
     "data": {
      "text/plain": [
       "         index  ticker                                     name Exchange  \\\n",
       "0            3    OEDV  Osage Exploration and Development, Inc.      PNK   \n",
       "1            4    AAPL                               Apple Inc.      NMS   \n",
       "2            5     BAC              Bank of America Corporation      NYQ   \n",
       "3            6    AMZN                         Amazon.com, Inc.      NMS   \n",
       "4            7       T                                AT&T Inc.      NYQ   \n",
       "...        ...     ...                                      ...      ...   \n",
       "106323  106326  G5N.SG          Groupon Inc. Reg. Shares DL-,00      STU   \n",
       "106324  106327  N1H.AX                      N1 Holdings Limited      ASX   \n",
       "106325  106328  1K2.BE                  K2M GROUP HLDGS DL-,001      BER   \n",
       "106326  106329  2RM.BE                 RE/MAX HLDGS A DL -,0001      BER   \n",
       "106327  106330   2RM.F                    RE/MAX Holdings, Inc.      FRA   \n",
       "\n",
       "                    Industry/Sector    Country  Unnamed: 1  Unnamed: 2  \\\n",
       "0                               NaN        USA         NaN         NaN   \n",
       "1              Electronic Equipment        USA         NaN         NaN   \n",
       "2                Money Center Banks        USA         NaN         NaN   \n",
       "3       Catalog & Mail Order Houses        USA         NaN         NaN   \n",
       "4       Telecom Services - Domestic        USA         NaN         NaN   \n",
       "...                             ...        ...         ...         ...   \n",
       "106323                          NaN    Germany         NaN         NaN   \n",
       "106324          Mortgage Investment  Australia         NaN         NaN   \n",
       "106325                          NaN    Germany         NaN         NaN   \n",
       "106326                          NaN    Germany         NaN         NaN   \n",
       "106327                          NaN     France         NaN         NaN   \n",
       "\n",
       "                                               Unnamed: 7  \n",
       "0                                              Samir Khan  \n",
       "1                          simulationconsultant@gmail.com  \n",
       "2                                                     NaN  \n",
       "3             This ticker symbol list was downloaded from  \n",
       "4       http://investexcel.net/all-yahoo-finance-stock...  \n",
       "...                                                   ...  \n",
       "106323                                                NaN  \n",
       "106324                                                NaN  \n",
       "106325                                                NaN  \n",
       "106326                                                NaN  \n",
       "106327                                                NaN  \n",
       "\n",
       "[106328 rows x 9 columns]"
      ],
      "text/html": "<div>\n<style scoped>\n    .dataframe tbody tr th:only-of-type {\n        vertical-align: middle;\n    }\n\n    .dataframe tbody tr th {\n        vertical-align: top;\n    }\n\n    .dataframe thead th {\n        text-align: right;\n    }\n</style>\n<table border=\"1\" class=\"dataframe\">\n  <thead>\n    <tr style=\"text-align: right;\">\n      <th></th>\n      <th>index</th>\n      <th>ticker</th>\n      <th>name</th>\n      <th>Exchange</th>\n      <th>Industry/Sector</th>\n      <th>Country</th>\n      <th>Unnamed: 1</th>\n      <th>Unnamed: 2</th>\n      <th>Unnamed: 7</th>\n    </tr>\n  </thead>\n  <tbody>\n    <tr>\n      <th>0</th>\n      <td>3</td>\n      <td>OEDV</td>\n      <td>Osage Exploration and Development, Inc.</td>\n      <td>PNK</td>\n      <td>NaN</td>\n      <td>USA</td>\n      <td>NaN</td>\n      <td>NaN</td>\n      <td>Samir Khan</td>\n    </tr>\n    <tr>\n      <th>1</th>\n      <td>4</td>\n      <td>AAPL</td>\n      <td>Apple Inc.</td>\n      <td>NMS</td>\n      <td>Electronic Equipment</td>\n      <td>USA</td>\n      <td>NaN</td>\n      <td>NaN</td>\n      <td>simulationconsultant@gmail.com</td>\n    </tr>\n    <tr>\n      <th>2</th>\n      <td>5</td>\n      <td>BAC</td>\n      <td>Bank of America Corporation</td>\n      <td>NYQ</td>\n      <td>Money Center Banks</td>\n      <td>USA</td>\n      <td>NaN</td>\n      <td>NaN</td>\n      <td>NaN</td>\n    </tr>\n    <tr>\n      <th>3</th>\n      <td>6</td>\n      <td>AMZN</td>\n      <td>Amazon.com, Inc.</td>\n      <td>NMS</td>\n      <td>Catalog &amp; Mail Order Houses</td>\n      <td>USA</td>\n      <td>NaN</td>\n      <td>NaN</td>\n      <td>This ticker symbol list was downloaded from</td>\n    </tr>\n    <tr>\n      <th>4</th>\n      <td>7</td>\n      <td>T</td>\n      <td>AT&amp;T Inc.</td>\n      <td>NYQ</td>\n      <td>Telecom Services - Domestic</td>\n      <td>USA</td>\n      <td>NaN</td>\n      <td>NaN</td>\n      <td>http://investexcel.net/all-yahoo-finance-stock...</td>\n    </tr>\n    <tr>\n      <th>...</th>\n      <td>...</td>\n      <td>...</td>\n      <td>...</td>\n      <td>...</td>\n      <td>...</td>\n      <td>...</td>\n      <td>...</td>\n      <td>...</td>\n      <td>...</td>\n    </tr>\n    <tr>\n      <th>106323</th>\n      <td>106326</td>\n      <td>G5N.SG</td>\n      <td>Groupon Inc. Reg. Shares DL-,00</td>\n      <td>STU</td>\n      <td>NaN</td>\n      <td>Germany</td>\n      <td>NaN</td>\n      <td>NaN</td>\n      <td>NaN</td>\n    </tr>\n    <tr>\n      <th>106324</th>\n      <td>106327</td>\n      <td>N1H.AX</td>\n      <td>N1 Holdings Limited</td>\n      <td>ASX</td>\n      <td>Mortgage Investment</td>\n      <td>Australia</td>\n      <td>NaN</td>\n      <td>NaN</td>\n      <td>NaN</td>\n    </tr>\n    <tr>\n      <th>106325</th>\n      <td>106328</td>\n      <td>1K2.BE</td>\n      <td>K2M GROUP HLDGS DL-,001</td>\n      <td>BER</td>\n      <td>NaN</td>\n      <td>Germany</td>\n      <td>NaN</td>\n      <td>NaN</td>\n      <td>NaN</td>\n    </tr>\n    <tr>\n      <th>106326</th>\n      <td>106329</td>\n      <td>2RM.BE</td>\n      <td>RE/MAX HLDGS A DL -,0001</td>\n      <td>BER</td>\n      <td>NaN</td>\n      <td>Germany</td>\n      <td>NaN</td>\n      <td>NaN</td>\n      <td>NaN</td>\n    </tr>\n    <tr>\n      <th>106327</th>\n      <td>106330</td>\n      <td>2RM.F</td>\n      <td>RE/MAX Holdings, Inc.</td>\n      <td>FRA</td>\n      <td>NaN</td>\n      <td>France</td>\n      <td>NaN</td>\n      <td>NaN</td>\n      <td>NaN</td>\n    </tr>\n  </tbody>\n</table>\n<p>106328 rows × 9 columns</p>\n</div>"
     },
     "metadata": {},
     "execution_count": 45
    }
   ],
   "source": [
    "df"
   ]
  },
  {
   "cell_type": "code",
   "execution_count": 64,
   "metadata": {},
   "outputs": [],
   "source": [
    "dict_names = {}"
   ]
  },
  {
   "cell_type": "code",
   "execution_count": 65,
   "metadata": {
    "tags": []
   },
   "outputs": [],
   "source": [
    "for i in range(len(df)):\n",
    "    dict_names[str(df.name[i])] = str(df.ticker[i])"
   ]
  },
  {
   "cell_type": "code",
   "execution_count": 76,
   "metadata": {},
   "outputs": [
    {
     "output_type": "execute_result",
     "data": {
      "text/plain": [
       "yfinance.Ticker object <AMZN.SW>"
      ]
     },
     "metadata": {},
     "execution_count": 76
    }
   ],
   "source": [
    "yf.Ticker(dict_names['Amazon.com, Inc.'])"
   ]
  },
  {
   "cell_type": "code",
   "execution_count": 72,
   "metadata": {},
   "outputs": [
    {
     "output_type": "execute_result",
     "data": {
      "text/plain": [
       "yfinance.Ticker object <AAPL>"
      ]
     },
     "metadata": {},
     "execution_count": 72
    }
   ],
   "source": [
    "yf.Ticker('AAPL')"
   ]
  }
 ]
}