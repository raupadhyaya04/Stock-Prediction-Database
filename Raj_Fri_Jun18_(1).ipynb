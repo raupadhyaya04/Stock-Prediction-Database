{
  "nbformat": 4,
  "nbformat_minor": 0,
  "metadata": {
    "colab": {
      "name": "Raj_Fri_Jun18 (1).ipynb",
      "provenance": [],
      "include_colab_link": true
    },
    "kernelspec": {
      "name": "python3",
      "display_name": "Python 3"
    },
    "language_info": {
      "name": "python"
    }
  },
  "cells": [
    {
      "cell_type": "markdown",
      "metadata": {
        "id": "view-in-github",
        "colab_type": "text"
      },
      "source": [
        "<a href=\"https://colab.research.google.com/github/raupadhyaya04/Stock-Prediction-Database/blob/main/Raj_Fri_Jun18_(1).ipynb\" target=\"_parent\"><img src=\"https://colab.research.google.com/assets/colab-badge.svg\" alt=\"Open In Colab\"/></a>"
      ]
    },
    {
      "cell_type": "code",
      "metadata": {
        "colab": {
          "base_uri": "https://localhost:8080/"
        },
        "id": "s6N2H7ktQzhr",
        "outputId": "aa5e9159-f68c-43d6-bae2-56f121e3674b"
      },
      "source": [
        "!pip install yfinance"
      ],
      "execution_count": 4,
      "outputs": [
        {
          "output_type": "stream",
          "text": [
            "Collecting yfinance\n",
            "  Downloading https://files.pythonhosted.org/packages/a7/ee/315752b9ef281ba83c62aa7ec2e2074f85223da6e7e74efb4d3e11c0f510/yfinance-0.1.59.tar.gz\n",
            "Requirement already satisfied: pandas>=0.24 in /usr/local/lib/python3.7/dist-packages (from yfinance) (1.1.5)\n",
            "Requirement already satisfied: numpy>=1.15 in /usr/local/lib/python3.7/dist-packages (from yfinance) (1.19.5)\n",
            "Requirement already satisfied: requests>=2.20 in /usr/local/lib/python3.7/dist-packages (from yfinance) (2.23.0)\n",
            "Requirement already satisfied: multitasking>=0.0.7 in /usr/local/lib/python3.7/dist-packages (from yfinance) (0.0.9)\n",
            "Collecting lxml>=4.5.1\n",
            "\u001b[?25l  Downloading https://files.pythonhosted.org/packages/30/c0/d0526314971fc661b083ab135747dc68446a3022686da8c16d25fcf6ef07/lxml-4.6.3-cp37-cp37m-manylinux2014_x86_64.whl (6.3MB)\n",
            "\u001b[K     |████████████████████████████████| 6.3MB 4.2MB/s \n",
            "\u001b[?25hRequirement already satisfied: python-dateutil>=2.7.3 in /usr/local/lib/python3.7/dist-packages (from pandas>=0.24->yfinance) (2.8.1)\n",
            "Requirement already satisfied: pytz>=2017.2 in /usr/local/lib/python3.7/dist-packages (from pandas>=0.24->yfinance) (2018.9)\n",
            "Requirement already satisfied: idna<3,>=2.5 in /usr/local/lib/python3.7/dist-packages (from requests>=2.20->yfinance) (2.10)\n",
            "Requirement already satisfied: chardet<4,>=3.0.2 in /usr/local/lib/python3.7/dist-packages (from requests>=2.20->yfinance) (3.0.4)\n",
            "Requirement already satisfied: certifi>=2017.4.17 in /usr/local/lib/python3.7/dist-packages (from requests>=2.20->yfinance) (2021.5.30)\n",
            "Requirement already satisfied: urllib3!=1.25.0,!=1.25.1,<1.26,>=1.21.1 in /usr/local/lib/python3.7/dist-packages (from requests>=2.20->yfinance) (1.24.3)\n",
            "Requirement already satisfied: six>=1.5 in /usr/local/lib/python3.7/dist-packages (from python-dateutil>=2.7.3->pandas>=0.24->yfinance) (1.15.0)\n",
            "Building wheels for collected packages: yfinance\n",
            "  Building wheel for yfinance (setup.py) ... \u001b[?25l\u001b[?25hdone\n",
            "  Created wheel for yfinance: filename=yfinance-0.1.59-py2.py3-none-any.whl size=23455 sha256=64c4958fb4ece4911d3c84d0facd8ce99c6ab62a6ba9dd8f71da1be9de9c239d\n",
            "  Stored in directory: /root/.cache/pip/wheels/f8/2a/0f/4b5a86e1d52e451757eb6bc17fd899629f0925c777741b6d04\n",
            "Successfully built yfinance\n",
            "Installing collected packages: lxml, yfinance\n",
            "  Found existing installation: lxml 4.2.6\n",
            "    Uninstalling lxml-4.2.6:\n",
            "      Successfully uninstalled lxml-4.2.6\n",
            "Successfully installed lxml-4.6.3 yfinance-0.1.59\n"
          ],
          "name": "stdout"
        }
      ]
    },
    {
      "cell_type": "code",
      "metadata": {
        "id": "ohNWkg-CQ3ZP"
      },
      "source": [
        "import yfinance as yf\n",
        "import matplotlib.pyplot as plt\n",
        "import numpy as np"
      ],
      "execution_count": 5,
      "outputs": []
    },
    {
      "cell_type": "code",
      "metadata": {
        "id": "wnbVW0n49v4h"
      },
      "source": [
        "class AnalyzeStock:\n",
        "  def __init__(self):\n",
        "    Ticker_data = _getTickers\n",
        "    Name_data = _getNames \n",
        "\n",
        "  def Analyze(self,ticker_list,corporation_list=None):\n",
        "    \"Does analaysis of stocks based on list of names or ticker id's\"\n",
        "    \"Part 1: Take only ticker or corporation lists\"\n",
        "    \"Part 2: Efficiently run analysis for all tickers in list (Pandas and lambda fucntions)\"\n",
        "    \"Part 3: Return conclusions of analysis\"\n",
        "    pass\n",
        "\n",
        "  def _getTickers(self):\n",
        "    pass\n",
        "  \n",
        "  def _getNames(self):\n",
        "    pass\n",
        "\n",
        "\n",
        "  "
      ],
      "execution_count": 7,
      "outputs": []
    },
    {
      "cell_type": "code",
      "metadata": {
        "id": "6zZ-gaw18lx2"
      },
      "source": [
        "def OnBalanceVolume(ticker):\n",
        "  volumeYesterday, volumeToday = ticker.history('2d')['Volume'][0], ticker.history('2d')['Volume'][1]\n",
        "  if volumeYesterday >= volumeToday:\n",
        "    obv = volumeYesterday\n",
        "  else:\n",
        "    obv = volumeToday\n",
        "  return obv "
      ],
      "execution_count": 8,
      "outputs": []
    },
    {
      "cell_type": "code",
      "metadata": {
        "colab": {
          "base_uri": "https://localhost:8080/"
        },
        "id": "oRWMy3TOz7na",
        "outputId": "631876b0-a0f0-40ea-d2a5-15649b018297"
      },
      "source": [
        "OnBalanceVolume(yf.Ticker('AMZN'))"
      ],
      "execution_count": 9,
      "outputs": [
        {
          "output_type": "execute_result",
          "data": {
            "text/plain": [
              "2401000"
            ]
          },
          "metadata": {
            "tags": []
          },
          "execution_count": 9
        }
      ]
    },
    {
      "cell_type": "code",
      "metadata": {
        "id": "FJrK5Rw7LmXn"
      },
      "source": [
        "def RSI(ticker_name): # String of the Stock name for example 'AAPL'\n",
        "  # 1. get 14 day chart of prices\n",
        "  # 2. Add 2 new columns to dataframe (Column for gain, column for loss)\n",
        "  # 3. Calculate RS (Relative Strength): Avg Gain/ Avg Loss | Avg_Gain =(Gain/14).. \n",
        "  # 4. Calculate RSI = 100 - (100/(1+RS))\n",
        "  ticker = yf.Ticker(ticker_name)\n",
        "  df = ticker.history(period='15d')\n",
        "  df = df.reset_index()\n",
        "  df[\"Gain\"] = df.Close - df.Close.shift(1)\n",
        "  df[\"Gain\"] = np.where(df[\"Gain\"]<=0,0,df[\"Gain\"])\n",
        "  df[\"Loss\"] = df.Close - df.Close.shift(1)\n",
        "  df[\"Loss\"] = np.where(df[\"Loss\"]>=0,0,abs(df[\"Loss\"])) #neeed to calculate RS and put into RSI forumla now\n",
        "  return df # return the RSI formula "
      ],
      "execution_count": 10,
      "outputs": []
    },
    {
      "cell_type": "code",
      "metadata": {
        "colab": {
          "base_uri": "https://localhost:8080/",
          "height": 519
        },
        "id": "Zs-9xHMFOEGK",
        "outputId": "9a3b84df-1f12-44db-83b1-d49aed3d067c"
      },
      "source": [
        "RSI('AAPL')"
      ],
      "execution_count": 11,
      "outputs": [
        {
          "output_type": "execute_result",
          "data": {
            "text/html": [
              "<div>\n",
              "<style scoped>\n",
              "    .dataframe tbody tr th:only-of-type {\n",
              "        vertical-align: middle;\n",
              "    }\n",
              "\n",
              "    .dataframe tbody tr th {\n",
              "        vertical-align: top;\n",
              "    }\n",
              "\n",
              "    .dataframe thead th {\n",
              "        text-align: right;\n",
              "    }\n",
              "</style>\n",
              "<table border=\"1\" class=\"dataframe\">\n",
              "  <thead>\n",
              "    <tr style=\"text-align: right;\">\n",
              "      <th></th>\n",
              "      <th>Date</th>\n",
              "      <th>Open</th>\n",
              "      <th>High</th>\n",
              "      <th>Low</th>\n",
              "      <th>Close</th>\n",
              "      <th>Volume</th>\n",
              "      <th>Dividends</th>\n",
              "      <th>Stock Splits</th>\n",
              "      <th>Gain</th>\n",
              "      <th>Loss</th>\n",
              "    </tr>\n",
              "  </thead>\n",
              "  <tbody>\n",
              "    <tr>\n",
              "      <th>0</th>\n",
              "      <td>2021-06-11</td>\n",
              "      <td>126.529999</td>\n",
              "      <td>127.440002</td>\n",
              "      <td>126.099998</td>\n",
              "      <td>127.349998</td>\n",
              "      <td>53522400</td>\n",
              "      <td>0</td>\n",
              "      <td>0</td>\n",
              "      <td>NaN</td>\n",
              "      <td>NaN</td>\n",
              "    </tr>\n",
              "    <tr>\n",
              "      <th>1</th>\n",
              "      <td>2021-06-14</td>\n",
              "      <td>127.820000</td>\n",
              "      <td>130.539993</td>\n",
              "      <td>127.070000</td>\n",
              "      <td>130.479996</td>\n",
              "      <td>96906500</td>\n",
              "      <td>0</td>\n",
              "      <td>0</td>\n",
              "      <td>3.129997</td>\n",
              "      <td>0.000000</td>\n",
              "    </tr>\n",
              "    <tr>\n",
              "      <th>2</th>\n",
              "      <td>2021-06-15</td>\n",
              "      <td>129.940002</td>\n",
              "      <td>130.600006</td>\n",
              "      <td>129.389999</td>\n",
              "      <td>129.639999</td>\n",
              "      <td>62746300</td>\n",
              "      <td>0</td>\n",
              "      <td>0</td>\n",
              "      <td>0.000000</td>\n",
              "      <td>0.839996</td>\n",
              "    </tr>\n",
              "    <tr>\n",
              "      <th>3</th>\n",
              "      <td>2021-06-16</td>\n",
              "      <td>130.369995</td>\n",
              "      <td>130.889999</td>\n",
              "      <td>128.460007</td>\n",
              "      <td>130.149994</td>\n",
              "      <td>91815000</td>\n",
              "      <td>0</td>\n",
              "      <td>0</td>\n",
              "      <td>0.509995</td>\n",
              "      <td>0.000000</td>\n",
              "    </tr>\n",
              "    <tr>\n",
              "      <th>4</th>\n",
              "      <td>2021-06-17</td>\n",
              "      <td>129.800003</td>\n",
              "      <td>132.550003</td>\n",
              "      <td>129.649994</td>\n",
              "      <td>131.789993</td>\n",
              "      <td>96721700</td>\n",
              "      <td>0</td>\n",
              "      <td>0</td>\n",
              "      <td>1.639999</td>\n",
              "      <td>0.000000</td>\n",
              "    </tr>\n",
              "    <tr>\n",
              "      <th>5</th>\n",
              "      <td>2021-06-18</td>\n",
              "      <td>130.710007</td>\n",
              "      <td>131.509995</td>\n",
              "      <td>130.240005</td>\n",
              "      <td>130.460007</td>\n",
              "      <td>108787300</td>\n",
              "      <td>0</td>\n",
              "      <td>0</td>\n",
              "      <td>0.000000</td>\n",
              "      <td>1.329987</td>\n",
              "    </tr>\n",
              "    <tr>\n",
              "      <th>6</th>\n",
              "      <td>2021-06-21</td>\n",
              "      <td>130.300003</td>\n",
              "      <td>132.410004</td>\n",
              "      <td>129.210007</td>\n",
              "      <td>132.300003</td>\n",
              "      <td>79663300</td>\n",
              "      <td>0</td>\n",
              "      <td>0</td>\n",
              "      <td>1.839996</td>\n",
              "      <td>0.000000</td>\n",
              "    </tr>\n",
              "    <tr>\n",
              "      <th>7</th>\n",
              "      <td>2021-06-22</td>\n",
              "      <td>132.130005</td>\n",
              "      <td>134.080002</td>\n",
              "      <td>131.619995</td>\n",
              "      <td>133.979996</td>\n",
              "      <td>74783600</td>\n",
              "      <td>0</td>\n",
              "      <td>0</td>\n",
              "      <td>1.679993</td>\n",
              "      <td>0.000000</td>\n",
              "    </tr>\n",
              "    <tr>\n",
              "      <th>8</th>\n",
              "      <td>2021-06-23</td>\n",
              "      <td>133.770004</td>\n",
              "      <td>134.320007</td>\n",
              "      <td>133.229996</td>\n",
              "      <td>133.699997</td>\n",
              "      <td>60214200</td>\n",
              "      <td>0</td>\n",
              "      <td>0</td>\n",
              "      <td>0.000000</td>\n",
              "      <td>0.279999</td>\n",
              "    </tr>\n",
              "    <tr>\n",
              "      <th>9</th>\n",
              "      <td>2021-06-24</td>\n",
              "      <td>134.449997</td>\n",
              "      <td>134.639999</td>\n",
              "      <td>132.929993</td>\n",
              "      <td>133.410004</td>\n",
              "      <td>68711000</td>\n",
              "      <td>0</td>\n",
              "      <td>0</td>\n",
              "      <td>0.000000</td>\n",
              "      <td>0.289993</td>\n",
              "    </tr>\n",
              "    <tr>\n",
              "      <th>10</th>\n",
              "      <td>2021-06-25</td>\n",
              "      <td>133.460007</td>\n",
              "      <td>133.889999</td>\n",
              "      <td>132.809998</td>\n",
              "      <td>133.110001</td>\n",
              "      <td>70730700</td>\n",
              "      <td>0</td>\n",
              "      <td>0</td>\n",
              "      <td>0.000000</td>\n",
              "      <td>0.300003</td>\n",
              "    </tr>\n",
              "    <tr>\n",
              "      <th>11</th>\n",
              "      <td>2021-06-28</td>\n",
              "      <td>133.410004</td>\n",
              "      <td>135.250000</td>\n",
              "      <td>133.350006</td>\n",
              "      <td>134.779999</td>\n",
              "      <td>62111300</td>\n",
              "      <td>0</td>\n",
              "      <td>0</td>\n",
              "      <td>1.669998</td>\n",
              "      <td>0.000000</td>\n",
              "    </tr>\n",
              "    <tr>\n",
              "      <th>12</th>\n",
              "      <td>2021-06-29</td>\n",
              "      <td>134.800003</td>\n",
              "      <td>136.490005</td>\n",
              "      <td>134.350006</td>\n",
              "      <td>136.330002</td>\n",
              "      <td>64556100</td>\n",
              "      <td>0</td>\n",
              "      <td>0</td>\n",
              "      <td>1.550003</td>\n",
              "      <td>0.000000</td>\n",
              "    </tr>\n",
              "    <tr>\n",
              "      <th>13</th>\n",
              "      <td>2021-06-30</td>\n",
              "      <td>136.169998</td>\n",
              "      <td>137.410004</td>\n",
              "      <td>135.869995</td>\n",
              "      <td>136.960007</td>\n",
              "      <td>63195300</td>\n",
              "      <td>0</td>\n",
              "      <td>0</td>\n",
              "      <td>0.630005</td>\n",
              "      <td>0.000000</td>\n",
              "    </tr>\n",
              "    <tr>\n",
              "      <th>14</th>\n",
              "      <td>2021-07-01</td>\n",
              "      <td>136.600006</td>\n",
              "      <td>137.190002</td>\n",
              "      <td>135.759995</td>\n",
              "      <td>136.190002</td>\n",
              "      <td>30432912</td>\n",
              "      <td>0</td>\n",
              "      <td>0</td>\n",
              "      <td>0.000000</td>\n",
              "      <td>0.770004</td>\n",
              "    </tr>\n",
              "  </tbody>\n",
              "</table>\n",
              "</div>"
            ],
            "text/plain": [
              "         Date        Open        High  ...  Stock Splits      Gain      Loss\n",
              "0  2021-06-11  126.529999  127.440002  ...             0       NaN       NaN\n",
              "1  2021-06-14  127.820000  130.539993  ...             0  3.129997  0.000000\n",
              "2  2021-06-15  129.940002  130.600006  ...             0  0.000000  0.839996\n",
              "3  2021-06-16  130.369995  130.889999  ...             0  0.509995  0.000000\n",
              "4  2021-06-17  129.800003  132.550003  ...             0  1.639999  0.000000\n",
              "5  2021-06-18  130.710007  131.509995  ...             0  0.000000  1.329987\n",
              "6  2021-06-21  130.300003  132.410004  ...             0  1.839996  0.000000\n",
              "7  2021-06-22  132.130005  134.080002  ...             0  1.679993  0.000000\n",
              "8  2021-06-23  133.770004  134.320007  ...             0  0.000000  0.279999\n",
              "9  2021-06-24  134.449997  134.639999  ...             0  0.000000  0.289993\n",
              "10 2021-06-25  133.460007  133.889999  ...             0  0.000000  0.300003\n",
              "11 2021-06-28  133.410004  135.250000  ...             0  1.669998  0.000000\n",
              "12 2021-06-29  134.800003  136.490005  ...             0  1.550003  0.000000\n",
              "13 2021-06-30  136.169998  137.410004  ...             0  0.630005  0.000000\n",
              "14 2021-07-01  136.600006  137.190002  ...             0  0.000000  0.770004\n",
              "\n",
              "[15 rows x 10 columns]"
            ]
          },
          "metadata": {
            "tags": []
          },
          "execution_count": 11
        }
      ]
    }
  ]
}